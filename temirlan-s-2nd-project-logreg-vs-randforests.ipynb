{
 "cells": [
  {
   "cell_type": "markdown",
   "id": "9a9c8ab9",
   "metadata": {
    "papermill": {
     "duration": 0.03964,
     "end_time": "2022-01-20T12:30:44.233305",
     "exception": false,
     "start_time": "2022-01-20T12:30:44.193665",
     "status": "completed"
    },
    "tags": []
   },
   "source": [
    "## This  project analyzes Heart Failure Prediction Dataset using Logistic Regression and Random Forests, and then, compares results obtained. The two methods were used because output results should be binary (0/1). Link to the dataset: https://www.kaggle.com/fedesoriano/heart-failure-prediction. \n",
    "### Finished on 20/01/2022."
   ]
  },
  {
   "cell_type": "markdown",
   "id": "12e2ecd2",
   "metadata": {
    "papermill": {
     "duration": 0.038753,
     "end_time": "2022-01-20T12:30:44.313231",
     "exception": false,
     "start_time": "2022-01-20T12:30:44.274478",
     "status": "completed"
    },
    "tags": []
   },
   "source": [
    "### First, we need to read the comma-separated file using pandas. Custom headers were given for convenience."
   ]
  },
  {
   "cell_type": "code",
   "execution_count": 1,
   "id": "a02b65bf",
   "metadata": {
    "execution": {
     "iopub.execute_input": "2022-01-20T12:30:44.392764Z",
     "iopub.status.busy": "2022-01-20T12:30:44.391508Z",
     "iopub.status.idle": "2022-01-20T12:30:44.406018Z",
     "shell.execute_reply": "2022-01-20T12:30:44.406617Z",
     "shell.execute_reply.started": "2022-01-20T12:26:09.894488Z"
    },
    "papermill": {
     "duration": 0.05605,
     "end_time": "2022-01-20T12:30:44.406930",
     "exception": false,
     "start_time": "2022-01-20T12:30:44.350880",
     "status": "completed"
    },
    "tags": []
   },
   "outputs": [],
   "source": [
    "import pandas as pd\n",
    "headers = [\"age\", \"sex\", \"cpa\", \"rbp\", \"chol\",\n",
    "           \"fbs\", \"recg\", \"maxhr\", \"EA\",\n",
    "           \"oldpeak\", \"ST_slope\", \"HD\"]\n",
    "# cpa = ChestPainType\n",
    "# rbp = resting blood pressure\n",
    "# chol = cholesterol\n",
    "# fbs = fasting blood sugar\n",
    "# recg = resting ECG\n",
    "# EA = exercise angina\n",
    "# HD = heart disease"
   ]
  },
  {
   "cell_type": "code",
   "execution_count": 2,
   "id": "62ddc801",
   "metadata": {
    "execution": {
     "iopub.execute_input": "2022-01-20T12:30:44.489700Z",
     "iopub.status.busy": "2022-01-20T12:30:44.486891Z",
     "iopub.status.idle": "2022-01-20T12:30:44.538703Z",
     "shell.execute_reply": "2022-01-20T12:30:44.539256Z",
     "shell.execute_reply.started": "2022-01-20T12:26:09.924911Z"
    },
    "papermill": {
     "duration": 0.093484,
     "end_time": "2022-01-20T12:30:44.539443",
     "exception": false,
     "start_time": "2022-01-20T12:30:44.445959",
     "status": "completed"
    },
    "tags": []
   },
   "outputs": [
    {
     "data": {
      "text/html": [
       "<div>\n",
       "<style scoped>\n",
       "    .dataframe tbody tr th:only-of-type {\n",
       "        vertical-align: middle;\n",
       "    }\n",
       "\n",
       "    .dataframe tbody tr th {\n",
       "        vertical-align: top;\n",
       "    }\n",
       "\n",
       "    .dataframe thead th {\n",
       "        text-align: right;\n",
       "    }\n",
       "</style>\n",
       "<table border=\"1\" class=\"dataframe\">\n",
       "  <thead>\n",
       "    <tr style=\"text-align: right;\">\n",
       "      <th></th>\n",
       "      <th>age</th>\n",
       "      <th>sex</th>\n",
       "      <th>cpa</th>\n",
       "      <th>rbp</th>\n",
       "      <th>chol</th>\n",
       "      <th>fbs</th>\n",
       "      <th>recg</th>\n",
       "      <th>maxhr</th>\n",
       "      <th>EA</th>\n",
       "      <th>oldpeak</th>\n",
       "      <th>ST_slope</th>\n",
       "      <th>HD</th>\n",
       "    </tr>\n",
       "  </thead>\n",
       "  <tbody>\n",
       "    <tr>\n",
       "      <th>0</th>\n",
       "      <td>Age</td>\n",
       "      <td>Sex</td>\n",
       "      <td>ChestPainType</td>\n",
       "      <td>RestingBP</td>\n",
       "      <td>Cholesterol</td>\n",
       "      <td>FastingBS</td>\n",
       "      <td>RestingECG</td>\n",
       "      <td>MaxHR</td>\n",
       "      <td>ExerciseAngina</td>\n",
       "      <td>Oldpeak</td>\n",
       "      <td>ST_Slope</td>\n",
       "      <td>HeartDisease</td>\n",
       "    </tr>\n",
       "    <tr>\n",
       "      <th>1</th>\n",
       "      <td>40</td>\n",
       "      <td>M</td>\n",
       "      <td>ATA</td>\n",
       "      <td>140</td>\n",
       "      <td>289</td>\n",
       "      <td>0</td>\n",
       "      <td>Normal</td>\n",
       "      <td>172</td>\n",
       "      <td>N</td>\n",
       "      <td>0</td>\n",
       "      <td>Up</td>\n",
       "      <td>0</td>\n",
       "    </tr>\n",
       "    <tr>\n",
       "      <th>2</th>\n",
       "      <td>49</td>\n",
       "      <td>F</td>\n",
       "      <td>NAP</td>\n",
       "      <td>160</td>\n",
       "      <td>180</td>\n",
       "      <td>0</td>\n",
       "      <td>Normal</td>\n",
       "      <td>156</td>\n",
       "      <td>N</td>\n",
       "      <td>1</td>\n",
       "      <td>Flat</td>\n",
       "      <td>1</td>\n",
       "    </tr>\n",
       "    <tr>\n",
       "      <th>3</th>\n",
       "      <td>37</td>\n",
       "      <td>M</td>\n",
       "      <td>ATA</td>\n",
       "      <td>130</td>\n",
       "      <td>283</td>\n",
       "      <td>0</td>\n",
       "      <td>ST</td>\n",
       "      <td>98</td>\n",
       "      <td>N</td>\n",
       "      <td>0</td>\n",
       "      <td>Up</td>\n",
       "      <td>0</td>\n",
       "    </tr>\n",
       "    <tr>\n",
       "      <th>4</th>\n",
       "      <td>48</td>\n",
       "      <td>F</td>\n",
       "      <td>ASY</td>\n",
       "      <td>138</td>\n",
       "      <td>214</td>\n",
       "      <td>0</td>\n",
       "      <td>Normal</td>\n",
       "      <td>108</td>\n",
       "      <td>Y</td>\n",
       "      <td>1.5</td>\n",
       "      <td>Flat</td>\n",
       "      <td>1</td>\n",
       "    </tr>\n",
       "  </tbody>\n",
       "</table>\n",
       "</div>"
      ],
      "text/plain": [
       "   age  sex            cpa        rbp         chol        fbs        recg  \\\n",
       "0  Age  Sex  ChestPainType  RestingBP  Cholesterol  FastingBS  RestingECG   \n",
       "1   40    M            ATA        140          289          0      Normal   \n",
       "2   49    F            NAP        160          180          0      Normal   \n",
       "3   37    M            ATA        130          283          0          ST   \n",
       "4   48    F            ASY        138          214          0      Normal   \n",
       "\n",
       "   maxhr              EA  oldpeak  ST_slope            HD  \n",
       "0  MaxHR  ExerciseAngina  Oldpeak  ST_Slope  HeartDisease  \n",
       "1    172               N        0        Up             0  \n",
       "2    156               N        1      Flat             1  \n",
       "3     98               N        0        Up             0  \n",
       "4    108               Y      1.5      Flat             1  "
      ]
     },
     "execution_count": 2,
     "metadata": {},
     "output_type": "execute_result"
    }
   ],
   "source": [
    "df = pd.read_csv(\"../input/heart-failure-prediction/heart.csv\", header=None, names=headers)\n",
    "df.head()"
   ]
  },
  {
   "cell_type": "markdown",
   "id": "0b77de31",
   "metadata": {
    "papermill": {
     "duration": 0.037322,
     "end_time": "2022-01-20T12:30:44.614600",
     "exception": false,
     "start_time": "2022-01-20T12:30:44.577278",
     "status": "completed"
    },
    "tags": []
   },
   "source": [
    "### For some reasons, previous headers were set as one new row of data, so it has to be removed."
   ]
  },
  {
   "cell_type": "code",
   "execution_count": 3,
   "id": "6045dbc4",
   "metadata": {
    "execution": {
     "iopub.execute_input": "2022-01-20T12:30:44.693999Z",
     "iopub.status.busy": "2022-01-20T12:30:44.692968Z",
     "iopub.status.idle": "2022-01-20T12:30:44.697073Z",
     "shell.execute_reply": "2022-01-20T12:30:44.697573Z",
     "shell.execute_reply.started": "2022-01-20T12:26:09.968610Z"
    },
    "papermill": {
     "duration": 0.045493,
     "end_time": "2022-01-20T12:30:44.697762",
     "exception": false,
     "start_time": "2022-01-20T12:30:44.652269",
     "status": "completed"
    },
    "tags": []
   },
   "outputs": [],
   "source": [
    "df = df.iloc[1: , :]"
   ]
  },
  {
   "cell_type": "code",
   "execution_count": 4,
   "id": "7b7f7e4a",
   "metadata": {
    "execution": {
     "iopub.execute_input": "2022-01-20T12:30:44.776248Z",
     "iopub.status.busy": "2022-01-20T12:30:44.775280Z",
     "iopub.status.idle": "2022-01-20T12:30:44.790837Z",
     "shell.execute_reply": "2022-01-20T12:30:44.791380Z",
     "shell.execute_reply.started": "2022-01-20T12:26:09.975063Z"
    },
    "papermill": {
     "duration": 0.056523,
     "end_time": "2022-01-20T12:30:44.791566",
     "exception": false,
     "start_time": "2022-01-20T12:30:44.735043",
     "status": "completed"
    },
    "tags": []
   },
   "outputs": [
    {
     "data": {
      "text/html": [
       "<div>\n",
       "<style scoped>\n",
       "    .dataframe tbody tr th:only-of-type {\n",
       "        vertical-align: middle;\n",
       "    }\n",
       "\n",
       "    .dataframe tbody tr th {\n",
       "        vertical-align: top;\n",
       "    }\n",
       "\n",
       "    .dataframe thead th {\n",
       "        text-align: right;\n",
       "    }\n",
       "</style>\n",
       "<table border=\"1\" class=\"dataframe\">\n",
       "  <thead>\n",
       "    <tr style=\"text-align: right;\">\n",
       "      <th></th>\n",
       "      <th>age</th>\n",
       "      <th>sex</th>\n",
       "      <th>cpa</th>\n",
       "      <th>rbp</th>\n",
       "      <th>chol</th>\n",
       "      <th>fbs</th>\n",
       "      <th>recg</th>\n",
       "      <th>maxhr</th>\n",
       "      <th>EA</th>\n",
       "      <th>oldpeak</th>\n",
       "      <th>ST_slope</th>\n",
       "      <th>HD</th>\n",
       "    </tr>\n",
       "  </thead>\n",
       "  <tbody>\n",
       "    <tr>\n",
       "      <th>1</th>\n",
       "      <td>40</td>\n",
       "      <td>M</td>\n",
       "      <td>ATA</td>\n",
       "      <td>140</td>\n",
       "      <td>289</td>\n",
       "      <td>0</td>\n",
       "      <td>Normal</td>\n",
       "      <td>172</td>\n",
       "      <td>N</td>\n",
       "      <td>0</td>\n",
       "      <td>Up</td>\n",
       "      <td>0</td>\n",
       "    </tr>\n",
       "    <tr>\n",
       "      <th>2</th>\n",
       "      <td>49</td>\n",
       "      <td>F</td>\n",
       "      <td>NAP</td>\n",
       "      <td>160</td>\n",
       "      <td>180</td>\n",
       "      <td>0</td>\n",
       "      <td>Normal</td>\n",
       "      <td>156</td>\n",
       "      <td>N</td>\n",
       "      <td>1</td>\n",
       "      <td>Flat</td>\n",
       "      <td>1</td>\n",
       "    </tr>\n",
       "    <tr>\n",
       "      <th>3</th>\n",
       "      <td>37</td>\n",
       "      <td>M</td>\n",
       "      <td>ATA</td>\n",
       "      <td>130</td>\n",
       "      <td>283</td>\n",
       "      <td>0</td>\n",
       "      <td>ST</td>\n",
       "      <td>98</td>\n",
       "      <td>N</td>\n",
       "      <td>0</td>\n",
       "      <td>Up</td>\n",
       "      <td>0</td>\n",
       "    </tr>\n",
       "    <tr>\n",
       "      <th>4</th>\n",
       "      <td>48</td>\n",
       "      <td>F</td>\n",
       "      <td>ASY</td>\n",
       "      <td>138</td>\n",
       "      <td>214</td>\n",
       "      <td>0</td>\n",
       "      <td>Normal</td>\n",
       "      <td>108</td>\n",
       "      <td>Y</td>\n",
       "      <td>1.5</td>\n",
       "      <td>Flat</td>\n",
       "      <td>1</td>\n",
       "    </tr>\n",
       "    <tr>\n",
       "      <th>5</th>\n",
       "      <td>54</td>\n",
       "      <td>M</td>\n",
       "      <td>NAP</td>\n",
       "      <td>150</td>\n",
       "      <td>195</td>\n",
       "      <td>0</td>\n",
       "      <td>Normal</td>\n",
       "      <td>122</td>\n",
       "      <td>N</td>\n",
       "      <td>0</td>\n",
       "      <td>Up</td>\n",
       "      <td>0</td>\n",
       "    </tr>\n",
       "  </tbody>\n",
       "</table>\n",
       "</div>"
      ],
      "text/plain": [
       "  age sex  cpa  rbp chol fbs    recg maxhr EA oldpeak ST_slope HD\n",
       "1  40   M  ATA  140  289   0  Normal   172  N       0       Up  0\n",
       "2  49   F  NAP  160  180   0  Normal   156  N       1     Flat  1\n",
       "3  37   M  ATA  130  283   0      ST    98  N       0       Up  0\n",
       "4  48   F  ASY  138  214   0  Normal   108  Y     1.5     Flat  1\n",
       "5  54   M  NAP  150  195   0  Normal   122  N       0       Up  0"
      ]
     },
     "execution_count": 4,
     "metadata": {},
     "output_type": "execute_result"
    }
   ],
   "source": [
    "df.head()"
   ]
  },
  {
   "cell_type": "markdown",
   "id": "8349b0d2",
   "metadata": {
    "papermill": {
     "duration": 0.038649,
     "end_time": "2022-01-20T12:30:44.868795",
     "exception": false,
     "start_time": "2022-01-20T12:30:44.830146",
     "status": "completed"
    },
    "tags": []
   },
   "source": [
    "### To check if there are any missing values, the following function was used."
   ]
  },
  {
   "cell_type": "code",
   "execution_count": 5,
   "id": "b698ba19",
   "metadata": {
    "execution": {
     "iopub.execute_input": "2022-01-20T12:30:44.948147Z",
     "iopub.status.busy": "2022-01-20T12:30:44.947089Z",
     "iopub.status.idle": "2022-01-20T12:30:44.956360Z",
     "shell.execute_reply": "2022-01-20T12:30:44.956856Z",
     "shell.execute_reply.started": "2022-01-20T12:26:10.001285Z"
    },
    "papermill": {
     "duration": 0.050515,
     "end_time": "2022-01-20T12:30:44.957037",
     "exception": false,
     "start_time": "2022-01-20T12:30:44.906522",
     "status": "completed"
    },
    "tags": []
   },
   "outputs": [
    {
     "data": {
      "text/plain": [
       "age         0\n",
       "sex         0\n",
       "cpa         0\n",
       "rbp         0\n",
       "chol        0\n",
       "fbs         0\n",
       "recg        0\n",
       "maxhr       0\n",
       "EA          0\n",
       "oldpeak     0\n",
       "ST_slope    0\n",
       "HD          0\n",
       "dtype: int64"
      ]
     },
     "execution_count": 5,
     "metadata": {},
     "output_type": "execute_result"
    }
   ],
   "source": [
    "df.isnull().sum()"
   ]
  },
  {
   "cell_type": "markdown",
   "id": "fe45207f",
   "metadata": {
    "papermill": {
     "duration": 0.038106,
     "end_time": "2022-01-20T12:30:45.034711",
     "exception": false,
     "start_time": "2022-01-20T12:30:44.996605",
     "status": "completed"
    },
    "tags": []
   },
   "source": [
    "### Logistic regression has a feature that it only works with numbers, so data names in string type columns should be replaced by numbers. The next functions look for unique data names in given columns to then numerize them."
   ]
  },
  {
   "cell_type": "markdown",
   "id": "a34951b9",
   "metadata": {
    "papermill": {
     "duration": 0.037808,
     "end_time": "2022-01-20T12:30:45.110623",
     "exception": false,
     "start_time": "2022-01-20T12:30:45.072815",
     "status": "completed"
    },
    "tags": []
   },
   "source": [
    "#### For example, here, it can be seen that the Chest Pain Type columns can have either \"ASY\", \"NAP\", \"ATA\", or \"TA\" values. So they can be changed to 1, 2, 3, and 4 respectively."
   ]
  },
  {
   "cell_type": "code",
   "execution_count": 6,
   "id": "91f6c7a4",
   "metadata": {
    "execution": {
     "iopub.execute_input": "2022-01-20T12:30:45.191138Z",
     "iopub.status.busy": "2022-01-20T12:30:45.190192Z",
     "iopub.status.idle": "2022-01-20T12:30:45.201944Z",
     "shell.execute_reply": "2022-01-20T12:30:45.202513Z",
     "shell.execute_reply.started": "2022-01-20T12:26:10.021279Z"
    },
    "papermill": {
     "duration": 0.053829,
     "end_time": "2022-01-20T12:30:45.202686",
     "exception": false,
     "start_time": "2022-01-20T12:30:45.148857",
     "status": "completed"
    },
    "tags": []
   },
   "outputs": [
    {
     "data": {
      "text/plain": [
       "ASY    496\n",
       "NAP    203\n",
       "ATA    173\n",
       "TA      46\n",
       "Name: cpa, dtype: int64"
      ]
     },
     "execution_count": 6,
     "metadata": {},
     "output_type": "execute_result"
    }
   ],
   "source": [
    "df['cpa'].value_counts()"
   ]
  },
  {
   "cell_type": "code",
   "execution_count": 7,
   "id": "fac657ee",
   "metadata": {
    "execution": {
     "iopub.execute_input": "2022-01-20T12:30:45.282845Z",
     "iopub.status.busy": "2022-01-20T12:30:45.282243Z",
     "iopub.status.idle": "2022-01-20T12:30:45.288563Z",
     "shell.execute_reply": "2022-01-20T12:30:45.289147Z",
     "shell.execute_reply.started": "2022-01-20T12:26:10.044370Z"
    },
    "papermill": {
     "duration": 0.048151,
     "end_time": "2022-01-20T12:30:45.289318",
     "exception": false,
     "start_time": "2022-01-20T12:30:45.241167",
     "status": "completed"
    },
    "tags": []
   },
   "outputs": [
    {
     "data": {
      "text/plain": [
       "Normal    552\n",
       "LVH       188\n",
       "ST        178\n",
       "Name: recg, dtype: int64"
      ]
     },
     "execution_count": 7,
     "metadata": {},
     "output_type": "execute_result"
    }
   ],
   "source": [
    "df['recg'].value_counts()"
   ]
  },
  {
   "cell_type": "code",
   "execution_count": 8,
   "id": "7f851823",
   "metadata": {
    "execution": {
     "iopub.execute_input": "2022-01-20T12:30:45.370222Z",
     "iopub.status.busy": "2022-01-20T12:30:45.369597Z",
     "iopub.status.idle": "2022-01-20T12:30:45.375930Z",
     "shell.execute_reply": "2022-01-20T12:30:45.376564Z",
     "shell.execute_reply.started": "2022-01-20T12:26:10.060073Z"
    },
    "papermill": {
     "duration": 0.048332,
     "end_time": "2022-01-20T12:30:45.376732",
     "exception": false,
     "start_time": "2022-01-20T12:30:45.328400",
     "status": "completed"
    },
    "tags": []
   },
   "outputs": [
    {
     "data": {
      "text/plain": [
       "Flat    460\n",
       "Up      395\n",
       "Down     63\n",
       "Name: ST_slope, dtype: int64"
      ]
     },
     "execution_count": 8,
     "metadata": {},
     "output_type": "execute_result"
    }
   ],
   "source": [
    "df['ST_slope'].value_counts()"
   ]
  },
  {
   "cell_type": "code",
   "execution_count": 9,
   "id": "35fed286",
   "metadata": {
    "execution": {
     "iopub.execute_input": "2022-01-20T12:30:45.458489Z",
     "iopub.status.busy": "2022-01-20T12:30:45.457819Z",
     "iopub.status.idle": "2022-01-20T12:30:45.462838Z",
     "shell.execute_reply": "2022-01-20T12:30:45.463347Z",
     "shell.execute_reply.started": "2022-01-20T12:26:10.074730Z"
    },
    "papermill": {
     "duration": 0.047305,
     "end_time": "2022-01-20T12:30:45.463518",
     "exception": false,
     "start_time": "2022-01-20T12:30:45.416213",
     "status": "completed"
    },
    "tags": []
   },
   "outputs": [],
   "source": [
    "cleanup_nums = {\"cpa\": {\"ASY\": 1, \"NAP\": 2, \"ATA\":3, \"TA\":4},\n",
    "                \"sex\": {\"M\": 0, \"F\": 1},\n",
    "               \"recg\": {\"Normal\":1, \"LVH\":2, \"ST\":3},\n",
    "               \"EA\": {\"Y\":1, \"N\":0},\n",
    "                \"ST_slope\": {\"Down\":0, \"Flat\":1, \"Up\":2}\n",
    "               }"
   ]
  },
  {
   "cell_type": "markdown",
   "id": "6eb4cbe4",
   "metadata": {
    "papermill": {
     "duration": 0.0392,
     "end_time": "2022-01-20T12:30:45.542044",
     "exception": false,
     "start_time": "2022-01-20T12:30:45.502844",
     "status": "completed"
    },
    "tags": []
   },
   "source": [
    "### \"Replace\" function uses the above dictionary to replace strings into numbers."
   ]
  },
  {
   "cell_type": "code",
   "execution_count": 10,
   "id": "91686159",
   "metadata": {
    "execution": {
     "iopub.execute_input": "2022-01-20T12:30:45.624092Z",
     "iopub.status.busy": "2022-01-20T12:30:45.623444Z",
     "iopub.status.idle": "2022-01-20T12:30:45.643537Z",
     "shell.execute_reply": "2022-01-20T12:30:45.644096Z",
     "shell.execute_reply.started": "2022-01-20T12:26:10.084438Z"
    },
    "papermill": {
     "duration": 0.062508,
     "end_time": "2022-01-20T12:30:45.644294",
     "exception": false,
     "start_time": "2022-01-20T12:30:45.581786",
     "status": "completed"
    },
    "tags": []
   },
   "outputs": [],
   "source": [
    "df = df.replace(cleanup_nums)"
   ]
  },
  {
   "cell_type": "markdown",
   "id": "d0af1274",
   "metadata": {
    "papermill": {
     "duration": 0.039132,
     "end_time": "2022-01-20T12:30:45.723587",
     "exception": false,
     "start_time": "2022-01-20T12:30:45.684455",
     "status": "completed"
    },
    "tags": []
   },
   "source": [
    "### Here, it is seen that the dataframe only has numbers (at least at a glance)."
   ]
  },
  {
   "cell_type": "code",
   "execution_count": 11,
   "id": "3c8cce14",
   "metadata": {
    "execution": {
     "iopub.execute_input": "2022-01-20T12:30:45.807065Z",
     "iopub.status.busy": "2022-01-20T12:30:45.806121Z",
     "iopub.status.idle": "2022-01-20T12:30:45.821972Z",
     "shell.execute_reply": "2022-01-20T12:30:45.822506Z",
     "shell.execute_reply.started": "2022-01-20T12:26:10.110706Z"
    },
    "papermill": {
     "duration": 0.059053,
     "end_time": "2022-01-20T12:30:45.822693",
     "exception": false,
     "start_time": "2022-01-20T12:30:45.763640",
     "status": "completed"
    },
    "tags": []
   },
   "outputs": [
    {
     "data": {
      "text/html": [
       "<div>\n",
       "<style scoped>\n",
       "    .dataframe tbody tr th:only-of-type {\n",
       "        vertical-align: middle;\n",
       "    }\n",
       "\n",
       "    .dataframe tbody tr th {\n",
       "        vertical-align: top;\n",
       "    }\n",
       "\n",
       "    .dataframe thead th {\n",
       "        text-align: right;\n",
       "    }\n",
       "</style>\n",
       "<table border=\"1\" class=\"dataframe\">\n",
       "  <thead>\n",
       "    <tr style=\"text-align: right;\">\n",
       "      <th></th>\n",
       "      <th>age</th>\n",
       "      <th>sex</th>\n",
       "      <th>cpa</th>\n",
       "      <th>rbp</th>\n",
       "      <th>chol</th>\n",
       "      <th>fbs</th>\n",
       "      <th>recg</th>\n",
       "      <th>maxhr</th>\n",
       "      <th>EA</th>\n",
       "      <th>oldpeak</th>\n",
       "      <th>ST_slope</th>\n",
       "      <th>HD</th>\n",
       "    </tr>\n",
       "  </thead>\n",
       "  <tbody>\n",
       "    <tr>\n",
       "      <th>1</th>\n",
       "      <td>40</td>\n",
       "      <td>0</td>\n",
       "      <td>3</td>\n",
       "      <td>140</td>\n",
       "      <td>289</td>\n",
       "      <td>0</td>\n",
       "      <td>1</td>\n",
       "      <td>172</td>\n",
       "      <td>0</td>\n",
       "      <td>0</td>\n",
       "      <td>2</td>\n",
       "      <td>0</td>\n",
       "    </tr>\n",
       "    <tr>\n",
       "      <th>2</th>\n",
       "      <td>49</td>\n",
       "      <td>1</td>\n",
       "      <td>2</td>\n",
       "      <td>160</td>\n",
       "      <td>180</td>\n",
       "      <td>0</td>\n",
       "      <td>1</td>\n",
       "      <td>156</td>\n",
       "      <td>0</td>\n",
       "      <td>1</td>\n",
       "      <td>1</td>\n",
       "      <td>1</td>\n",
       "    </tr>\n",
       "    <tr>\n",
       "      <th>3</th>\n",
       "      <td>37</td>\n",
       "      <td>0</td>\n",
       "      <td>3</td>\n",
       "      <td>130</td>\n",
       "      <td>283</td>\n",
       "      <td>0</td>\n",
       "      <td>3</td>\n",
       "      <td>98</td>\n",
       "      <td>0</td>\n",
       "      <td>0</td>\n",
       "      <td>2</td>\n",
       "      <td>0</td>\n",
       "    </tr>\n",
       "    <tr>\n",
       "      <th>4</th>\n",
       "      <td>48</td>\n",
       "      <td>1</td>\n",
       "      <td>1</td>\n",
       "      <td>138</td>\n",
       "      <td>214</td>\n",
       "      <td>0</td>\n",
       "      <td>1</td>\n",
       "      <td>108</td>\n",
       "      <td>1</td>\n",
       "      <td>1.5</td>\n",
       "      <td>1</td>\n",
       "      <td>1</td>\n",
       "    </tr>\n",
       "    <tr>\n",
       "      <th>5</th>\n",
       "      <td>54</td>\n",
       "      <td>0</td>\n",
       "      <td>2</td>\n",
       "      <td>150</td>\n",
       "      <td>195</td>\n",
       "      <td>0</td>\n",
       "      <td>1</td>\n",
       "      <td>122</td>\n",
       "      <td>0</td>\n",
       "      <td>0</td>\n",
       "      <td>2</td>\n",
       "      <td>0</td>\n",
       "    </tr>\n",
       "  </tbody>\n",
       "</table>\n",
       "</div>"
      ],
      "text/plain": [
       "  age  sex  cpa  rbp chol fbs  recg maxhr  EA oldpeak  ST_slope HD\n",
       "1  40    0    3  140  289   0     1   172   0       0         2  0\n",
       "2  49    1    2  160  180   0     1   156   0       1         1  1\n",
       "3  37    0    3  130  283   0     3    98   0       0         2  0\n",
       "4  48    1    1  138  214   0     1   108   1     1.5         1  1\n",
       "5  54    0    2  150  195   0     1   122   0       0         2  0"
      ]
     },
     "execution_count": 11,
     "metadata": {},
     "output_type": "execute_result"
    }
   ],
   "source": [
    "df.head()"
   ]
  },
  {
   "cell_type": "markdown",
   "id": "af01e4d2",
   "metadata": {
    "papermill": {
     "duration": 0.039597,
     "end_time": "2022-01-20T12:30:45.902823",
     "exception": false,
     "start_time": "2022-01-20T12:30:45.863226",
     "status": "completed"
    },
    "tags": []
   },
   "source": [
    "### However, it turns out that the columns unchanged by the dictionary (which were initially shown as numbers) are not in \"int\" or \"float\" type, but in \"object\" type. So, column data types had to be changed."
   ]
  },
  {
   "cell_type": "code",
   "execution_count": 12,
   "id": "ee9824cd",
   "metadata": {
    "execution": {
     "iopub.execute_input": "2022-01-20T12:30:45.989241Z",
     "iopub.status.busy": "2022-01-20T12:30:45.988535Z",
     "iopub.status.idle": "2022-01-20T12:30:45.991103Z",
     "shell.execute_reply": "2022-01-20T12:30:45.991655Z",
     "shell.execute_reply.started": "2022-01-20T12:26:10.127092Z"
    },
    "papermill": {
     "duration": 0.048599,
     "end_time": "2022-01-20T12:30:45.991837",
     "exception": false,
     "start_time": "2022-01-20T12:30:45.943238",
     "status": "completed"
    },
    "tags": []
   },
   "outputs": [
    {
     "data": {
      "text/plain": [
       "dtype('O')"
      ]
     },
     "execution_count": 12,
     "metadata": {},
     "output_type": "execute_result"
    }
   ],
   "source": [
    "df['age'].dtype"
   ]
  },
  {
   "cell_type": "code",
   "execution_count": 13,
   "id": "3af53209",
   "metadata": {
    "execution": {
     "iopub.execute_input": "2022-01-20T12:30:46.077408Z",
     "iopub.status.busy": "2022-01-20T12:30:46.076727Z",
     "iopub.status.idle": "2022-01-20T12:30:46.086922Z",
     "shell.execute_reply": "2022-01-20T12:30:46.087472Z",
     "shell.execute_reply.started": "2022-01-20T12:26:10.144813Z"
    },
    "papermill": {
     "duration": 0.054582,
     "end_time": "2022-01-20T12:30:46.087659",
     "exception": false,
     "start_time": "2022-01-20T12:30:46.033077",
     "status": "completed"
    },
    "tags": []
   },
   "outputs": [],
   "source": [
    "df['age']=df['age'].astype('float32')\n",
    "df['rbp']=df['rbp'].astype('float32')\n",
    "df['chol']=df['chol'].astype('float32')\n",
    "df['fbs']=df['fbs'].astype('float32')\n",
    "df['maxhr']=df['maxhr'].astype('float32')\n",
    "df['oldpeak']=df['oldpeak'].astype('float32')\n",
    "df['HD']=df['HD'].astype('float32')"
   ]
  },
  {
   "cell_type": "code",
   "execution_count": 14,
   "id": "46e6cd96",
   "metadata": {
    "execution": {
     "iopub.execute_input": "2022-01-20T12:30:46.171825Z",
     "iopub.status.busy": "2022-01-20T12:30:46.171188Z",
     "iopub.status.idle": "2022-01-20T12:30:46.179754Z",
     "shell.execute_reply": "2022-01-20T12:30:46.179238Z",
     "shell.execute_reply.started": "2022-01-20T12:26:10.160628Z"
    },
    "papermill": {
     "duration": 0.052026,
     "end_time": "2022-01-20T12:30:46.179901",
     "exception": false,
     "start_time": "2022-01-20T12:30:46.127875",
     "status": "completed"
    },
    "tags": []
   },
   "outputs": [
    {
     "data": {
      "text/plain": [
       "1      40.0\n",
       "2      49.0\n",
       "3      37.0\n",
       "4      48.0\n",
       "5      54.0\n",
       "       ... \n",
       "914    45.0\n",
       "915    68.0\n",
       "916    57.0\n",
       "917    57.0\n",
       "918    38.0\n",
       "Name: age, Length: 918, dtype: float32"
      ]
     },
     "execution_count": 14,
     "metadata": {},
     "output_type": "execute_result"
    }
   ],
   "source": [
    "df['age']"
   ]
  },
  {
   "cell_type": "code",
   "execution_count": 15,
   "id": "e733893f",
   "metadata": {
    "execution": {
     "iopub.execute_input": "2022-01-20T12:30:46.268434Z",
     "iopub.status.busy": "2022-01-20T12:30:46.266244Z",
     "iopub.status.idle": "2022-01-20T12:30:46.271594Z",
     "shell.execute_reply": "2022-01-20T12:30:46.272212Z",
     "shell.execute_reply.started": "2022-01-20T12:26:10.170184Z"
    },
    "papermill": {
     "duration": 0.051704,
     "end_time": "2022-01-20T12:30:46.272383",
     "exception": false,
     "start_time": "2022-01-20T12:30:46.220679",
     "status": "completed"
    },
    "tags": []
   },
   "outputs": [
    {
     "data": {
      "text/plain": [
       "1      0.0\n",
       "2      1.0\n",
       "3      0.0\n",
       "4      1.0\n",
       "5      0.0\n",
       "      ... \n",
       "914    1.0\n",
       "915    1.0\n",
       "916    1.0\n",
       "917    1.0\n",
       "918    0.0\n",
       "Name: HD, Length: 918, dtype: float32"
      ]
     },
     "execution_count": 15,
     "metadata": {},
     "output_type": "execute_result"
    }
   ],
   "source": [
    "df['HD']"
   ]
  },
  {
   "cell_type": "markdown",
   "id": "f621ab51",
   "metadata": {
    "papermill": {
     "duration": 0.040448,
     "end_time": "2022-01-20T12:30:46.353744",
     "exception": false,
     "start_time": "2022-01-20T12:30:46.313296",
     "status": "completed"
    },
    "tags": []
   },
   "source": [
    "### As the dataset now truly contains only numbers, we can separate the independent and dependent variables. Outcome results (Heart Disease) will be stored in \"y\" and features or the factors will be stored in feature vector X, since all the other columns are expected to be the reasons of heart diseases."
   ]
  },
  {
   "cell_type": "code",
   "execution_count": 16,
   "id": "881498ce",
   "metadata": {
    "execution": {
     "iopub.execute_input": "2022-01-20T12:30:46.438990Z",
     "iopub.status.busy": "2022-01-20T12:30:46.438006Z",
     "iopub.status.idle": "2022-01-20T12:30:46.448014Z",
     "shell.execute_reply": "2022-01-20T12:30:46.447381Z",
     "shell.execute_reply.started": "2022-01-20T12:26:10.187008Z"
    },
    "papermill": {
     "duration": 0.053765,
     "end_time": "2022-01-20T12:30:46.448207",
     "exception": false,
     "start_time": "2022-01-20T12:30:46.394442",
     "status": "completed"
    },
    "tags": []
   },
   "outputs": [],
   "source": [
    "X = df.drop(\"HD\", axis=1)\n",
    "y = df['HD']"
   ]
  },
  {
   "cell_type": "markdown",
   "id": "08f582fc",
   "metadata": {
    "papermill": {
     "duration": 0.042268,
     "end_time": "2022-01-20T12:30:46.531675",
     "exception": false,
     "start_time": "2022-01-20T12:30:46.489407",
     "status": "completed"
    },
    "tags": []
   },
   "source": [
    "### Importing the scikit-learn function which splits X and y into train and test datasets."
   ]
  },
  {
   "cell_type": "code",
   "execution_count": 17,
   "id": "c715fad6",
   "metadata": {
    "execution": {
     "iopub.execute_input": "2022-01-20T12:30:46.619333Z",
     "iopub.status.busy": "2022-01-20T12:30:46.618690Z",
     "iopub.status.idle": "2022-01-20T12:30:47.640786Z",
     "shell.execute_reply": "2022-01-20T12:30:47.640171Z",
     "shell.execute_reply.started": "2022-01-20T12:26:10.201360Z"
    },
    "papermill": {
     "duration": 1.066301,
     "end_time": "2022-01-20T12:30:47.640934",
     "exception": false,
     "start_time": "2022-01-20T12:30:46.574633",
     "status": "completed"
    },
    "tags": []
   },
   "outputs": [],
   "source": [
    "from sklearn.model_selection import train_test_split"
   ]
  },
  {
   "cell_type": "markdown",
   "id": "e058ade1",
   "metadata": {
    "papermill": {
     "duration": 0.04106,
     "end_time": "2022-01-20T12:30:47.723417",
     "exception": false,
     "start_time": "2022-01-20T12:30:47.682357",
     "status": "completed"
    },
    "tags": []
   },
   "source": [
    "### 3:1 ratio should suffice for the dataset of this size."
   ]
  },
  {
   "cell_type": "code",
   "execution_count": 18,
   "id": "8de744d5",
   "metadata": {
    "execution": {
     "iopub.execute_input": "2022-01-20T12:30:47.810275Z",
     "iopub.status.busy": "2022-01-20T12:30:47.809573Z",
     "iopub.status.idle": "2022-01-20T12:30:47.816843Z",
     "shell.execute_reply": "2022-01-20T12:30:47.817392Z",
     "shell.execute_reply.started": "2022-01-20T12:26:11.390071Z"
    },
    "papermill": {
     "duration": 0.052825,
     "end_time": "2022-01-20T12:30:47.817598",
     "exception": false,
     "start_time": "2022-01-20T12:30:47.764773",
     "status": "completed"
    },
    "tags": []
   },
   "outputs": [],
   "source": [
    "X_train, X_test, y_train, y_test = train_test_split(X, y, test_size=0.25, random_state=42)"
   ]
  },
  {
   "cell_type": "code",
   "execution_count": 19,
   "id": "cf393920",
   "metadata": {
    "execution": {
     "iopub.execute_input": "2022-01-20T12:30:47.905492Z",
     "iopub.status.busy": "2022-01-20T12:30:47.904730Z",
     "iopub.status.idle": "2022-01-20T12:30:47.989158Z",
     "shell.execute_reply": "2022-01-20T12:30:47.987813Z",
     "shell.execute_reply.started": "2022-01-20T12:26:11.404142Z"
    },
    "papermill": {
     "duration": 0.130566,
     "end_time": "2022-01-20T12:30:47.989345",
     "exception": false,
     "start_time": "2022-01-20T12:30:47.858779",
     "status": "completed"
    },
    "tags": []
   },
   "outputs": [],
   "source": [
    "from sklearn.linear_model import LogisticRegression"
   ]
  },
  {
   "cell_type": "markdown",
   "id": "e1b1cd70",
   "metadata": {
    "papermill": {
     "duration": 0.041062,
     "end_time": "2022-01-20T12:30:48.071962",
     "exception": false,
     "start_time": "2022-01-20T12:30:48.030900",
     "status": "completed"
    },
    "tags": []
   },
   "source": [
    "### Here, specific parameters were added to avoid the bug that showed up continuously. Alternative solution could be to scale the inputs so that they have much smaller values, but setting a large maximum iteration value did work as well."
   ]
  },
  {
   "cell_type": "code",
   "execution_count": 20,
   "id": "cb0368cc",
   "metadata": {
    "execution": {
     "iopub.execute_input": "2022-01-20T12:30:48.162092Z",
     "iopub.status.busy": "2022-01-20T12:30:48.161425Z",
     "iopub.status.idle": "2022-01-20T12:30:48.163387Z",
     "shell.execute_reply": "2022-01-20T12:30:48.162764Z",
     "shell.execute_reply.started": "2022-01-20T12:26:11.496396Z"
    },
    "papermill": {
     "duration": 0.049699,
     "end_time": "2022-01-20T12:30:48.163531",
     "exception": false,
     "start_time": "2022-01-20T12:30:48.113832",
     "status": "completed"
    },
    "tags": []
   },
   "outputs": [],
   "source": [
    "logmodel = LogisticRegression(solver=\"lbfgs\", max_iter=1000)"
   ]
  },
  {
   "cell_type": "markdown",
   "id": "31a2eb58",
   "metadata": {
    "papermill": {
     "duration": 0.042539,
     "end_time": "2022-01-20T12:30:48.247381",
     "exception": false,
     "start_time": "2022-01-20T12:30:48.204842",
     "status": "completed"
    },
    "tags": []
   },
   "source": [
    "### Checking the datatype of values in columns of train dataset to make sure it is not \"object\" but numbers."
   ]
  },
  {
   "cell_type": "code",
   "execution_count": 21,
   "id": "b3cc1c0e",
   "metadata": {
    "execution": {
     "iopub.execute_input": "2022-01-20T12:30:48.339416Z",
     "iopub.status.busy": "2022-01-20T12:30:48.338708Z",
     "iopub.status.idle": "2022-01-20T12:30:48.342469Z",
     "shell.execute_reply": "2022-01-20T12:30:48.341867Z",
     "shell.execute_reply.started": "2022-01-20T12:26:11.503124Z"
    },
    "papermill": {
     "duration": 0.053585,
     "end_time": "2022-01-20T12:30:48.342652",
     "exception": false,
     "start_time": "2022-01-20T12:30:48.289067",
     "status": "completed"
    },
    "tags": []
   },
   "outputs": [
    {
     "data": {
      "text/plain": [
       "156    56.0\n",
       "363    56.0\n",
       "870    59.0\n",
       "102    51.0\n",
       "200    57.0\n",
       "       ... \n",
       "107    48.0\n",
       "271    45.0\n",
       "861    60.0\n",
       "436    60.0\n",
       "103    40.0\n",
       "Name: age, Length: 688, dtype: float32"
      ]
     },
     "execution_count": 21,
     "metadata": {},
     "output_type": "execute_result"
    }
   ],
   "source": [
    "X_train['age']"
   ]
  },
  {
   "cell_type": "markdown",
   "id": "5d086888",
   "metadata": {
    "papermill": {
     "duration": 0.047425,
     "end_time": "2022-01-20T12:30:48.434502",
     "exception": false,
     "start_time": "2022-01-20T12:30:48.387077",
     "status": "completed"
    },
    "tags": []
   },
   "source": [
    "### Training the model on train dataset."
   ]
  },
  {
   "cell_type": "code",
   "execution_count": 22,
   "id": "a0a2a097",
   "metadata": {
    "execution": {
     "iopub.execute_input": "2022-01-20T12:30:48.527455Z",
     "iopub.status.busy": "2022-01-20T12:30:48.526395Z",
     "iopub.status.idle": "2022-01-20T12:30:48.736236Z",
     "shell.execute_reply": "2022-01-20T12:30:48.735543Z",
     "shell.execute_reply.started": "2022-01-20T12:26:11.521978Z"
    },
    "papermill": {
     "duration": 0.257756,
     "end_time": "2022-01-20T12:30:48.736387",
     "exception": false,
     "start_time": "2022-01-20T12:30:48.478631",
     "status": "completed"
    },
    "tags": []
   },
   "outputs": [
    {
     "data": {
      "text/plain": [
       "LogisticRegression(max_iter=1000)"
      ]
     },
     "execution_count": 22,
     "metadata": {},
     "output_type": "execute_result"
    }
   ],
   "source": [
    "logmodel.fit(X_train, y_train)"
   ]
  },
  {
   "cell_type": "markdown",
   "id": "7ba773cf",
   "metadata": {
    "papermill": {
     "duration": 0.044492,
     "end_time": "2022-01-20T12:30:48.827687",
     "exception": false,
     "start_time": "2022-01-20T12:30:48.783195",
     "status": "completed"
    },
    "tags": []
   },
   "source": [
    "### \"Predictions\" will have the final results made by our model."
   ]
  },
  {
   "cell_type": "code",
   "execution_count": 23,
   "id": "afc2bafe",
   "metadata": {
    "execution": {
     "iopub.execute_input": "2022-01-20T12:30:48.919309Z",
     "iopub.status.busy": "2022-01-20T12:30:48.918055Z",
     "iopub.status.idle": "2022-01-20T12:30:48.924639Z",
     "shell.execute_reply": "2022-01-20T12:30:48.925163Z",
     "shell.execute_reply.started": "2022-01-20T12:26:11.746438Z"
    },
    "papermill": {
     "duration": 0.052894,
     "end_time": "2022-01-20T12:30:48.925365",
     "exception": false,
     "start_time": "2022-01-20T12:30:48.872471",
     "status": "completed"
    },
    "tags": []
   },
   "outputs": [],
   "source": [
    "predictions = logmodel.predict(X_test)"
   ]
  },
  {
   "cell_type": "code",
   "execution_count": 24,
   "id": "dbe89218",
   "metadata": {
    "execution": {
     "iopub.execute_input": "2022-01-20T12:30:49.016294Z",
     "iopub.status.busy": "2022-01-20T12:30:49.015540Z",
     "iopub.status.idle": "2022-01-20T12:30:49.017990Z",
     "shell.execute_reply": "2022-01-20T12:30:49.018965Z",
     "shell.execute_reply.started": "2022-01-20T12:26:11.754470Z"
    },
    "papermill": {
     "duration": 0.051836,
     "end_time": "2022-01-20T12:30:49.019244",
     "exception": false,
     "start_time": "2022-01-20T12:30:48.967408",
     "status": "completed"
    },
    "tags": []
   },
   "outputs": [],
   "source": [
    "from sklearn.metrics import classification_report\n",
    "from sklearn.metrics import confusion_matrix"
   ]
  },
  {
   "cell_type": "code",
   "execution_count": 25,
   "id": "05fd639b",
   "metadata": {
    "execution": {
     "iopub.execute_input": "2022-01-20T12:30:49.110799Z",
     "iopub.status.busy": "2022-01-20T12:30:49.110000Z",
     "iopub.status.idle": "2022-01-20T12:30:49.123726Z",
     "shell.execute_reply": "2022-01-20T12:30:49.122647Z",
     "shell.execute_reply.started": "2022-01-20T12:28:03.394479Z"
    },
    "papermill": {
     "duration": 0.060361,
     "end_time": "2022-01-20T12:30:49.123968",
     "exception": false,
     "start_time": "2022-01-20T12:30:49.063607",
     "status": "completed"
    },
    "tags": []
   },
   "outputs": [
    {
     "name": "stdout",
     "output_type": "stream",
     "text": [
      "              precision    recall  f1-score   support\n",
      "\n",
      "         0.0       0.79      0.88      0.83        98\n",
      "         1.0       0.90      0.83      0.86       132\n",
      "\n",
      "    accuracy                           0.85       230\n",
      "   macro avg       0.84      0.85      0.85       230\n",
      "weighted avg       0.85      0.85      0.85       230\n",
      "\n"
     ]
    }
   ],
   "source": [
    "print(classification_report(y_test, predictions))"
   ]
  },
  {
   "cell_type": "markdown",
   "id": "cae24ae1",
   "metadata": {
    "papermill": {
     "duration": 0.044978,
     "end_time": "2022-01-20T12:30:49.214628",
     "exception": false,
     "start_time": "2022-01-20T12:30:49.169650",
     "status": "completed"
    },
    "tags": []
   },
   "source": [
    "### Confusion matrix helped to qualify the results by showing True Negative and False Positive in the first row, and False Negative and True Positive in the second."
   ]
  },
  {
   "cell_type": "code",
   "execution_count": 26,
   "id": "9360bf54",
   "metadata": {
    "execution": {
     "iopub.execute_input": "2022-01-20T12:30:49.308533Z",
     "iopub.status.busy": "2022-01-20T12:30:49.307797Z",
     "iopub.status.idle": "2022-01-20T12:30:49.318382Z",
     "shell.execute_reply": "2022-01-20T12:30:49.318851Z",
     "shell.execute_reply.started": "2022-01-20T12:28:17.910793Z"
    },
    "papermill": {
     "duration": 0.05953,
     "end_time": "2022-01-20T12:30:49.319036",
     "exception": false,
     "start_time": "2022-01-20T12:30:49.259506",
     "status": "completed"
    },
    "tags": []
   },
   "outputs": [
    {
     "data": {
      "text/plain": [
       "array([[ 86,  12],\n",
       "       [ 23, 109]])"
      ]
     },
     "execution_count": 26,
     "metadata": {},
     "output_type": "execute_result"
    }
   ],
   "source": [
    "confusion_matrix(y_test, predictions)"
   ]
  },
  {
   "cell_type": "markdown",
   "id": "4e464aca",
   "metadata": {
    "papermill": {
     "duration": 0.043279,
     "end_time": "2022-01-20T12:30:49.406207",
     "exception": false,
     "start_time": "2022-01-20T12:30:49.362928",
     "status": "completed"
    },
    "tags": []
   },
   "source": [
    "### To calculate the accuracy, number of true predictions can be divided by the sum of all predictions."
   ]
  },
  {
   "cell_type": "code",
   "execution_count": 27,
   "id": "5ece5f67",
   "metadata": {
    "execution": {
     "iopub.execute_input": "2022-01-20T12:30:49.496986Z",
     "iopub.status.busy": "2022-01-20T12:30:49.496304Z",
     "iopub.status.idle": "2022-01-20T12:30:49.498898Z",
     "shell.execute_reply": "2022-01-20T12:30:49.499435Z",
     "shell.execute_reply.started": "2022-01-20T12:26:11.800885Z"
    },
    "papermill": {
     "duration": 0.050491,
     "end_time": "2022-01-20T12:30:49.499622",
     "exception": false,
     "start_time": "2022-01-20T12:30:49.449131",
     "status": "completed"
    },
    "tags": []
   },
   "outputs": [
    {
     "name": "stdout",
     "output_type": "stream",
     "text": [
      "The accuracy of the model is 0.8478260869565217\n"
     ]
    }
   ],
   "source": [
    "print(f\"The accuracy of the model is {(86+109)/(86+12+23+109)}\")"
   ]
  },
  {
   "cell_type": "code",
   "execution_count": 28,
   "id": "1c90b0ae",
   "metadata": {
    "execution": {
     "iopub.execute_input": "2022-01-20T12:30:49.590549Z",
     "iopub.status.busy": "2022-01-20T12:30:49.589889Z",
     "iopub.status.idle": "2022-01-20T12:30:49.711900Z",
     "shell.execute_reply": "2022-01-20T12:30:49.711259Z",
     "shell.execute_reply.started": "2022-01-20T12:26:11.811314Z"
    },
    "papermill": {
     "duration": 0.168576,
     "end_time": "2022-01-20T12:30:49.712042",
     "exception": false,
     "start_time": "2022-01-20T12:30:49.543466",
     "status": "completed"
    },
    "tags": []
   },
   "outputs": [],
   "source": [
    "from sklearn.ensemble import RandomForestRegressor"
   ]
  },
  {
   "cell_type": "code",
   "execution_count": 29,
   "id": "5f985b1d",
   "metadata": {
    "execution": {
     "iopub.execute_input": "2022-01-20T12:30:49.803368Z",
     "iopub.status.busy": "2022-01-20T12:30:49.802641Z",
     "iopub.status.idle": "2022-01-20T12:30:49.805080Z",
     "shell.execute_reply": "2022-01-20T12:30:49.804472Z",
     "shell.execute_reply.started": "2022-01-20T12:26:11.944150Z"
    },
    "papermill": {
     "duration": 0.050478,
     "end_time": "2022-01-20T12:30:49.805233",
     "exception": false,
     "start_time": "2022-01-20T12:30:49.754755",
     "status": "completed"
    },
    "tags": []
   },
   "outputs": [],
   "source": [
    "forest_model = RandomForestRegressor(random_state=1)"
   ]
  },
  {
   "cell_type": "markdown",
   "id": "8ac4f8d8",
   "metadata": {
    "papermill": {
     "duration": 0.044539,
     "end_time": "2022-01-20T12:30:49.893358",
     "exception": false,
     "start_time": "2022-01-20T12:30:49.848819",
     "status": "completed"
    },
    "tags": []
   },
   "source": [
    "### Training the second model on the previous train dataset."
   ]
  },
  {
   "cell_type": "code",
   "execution_count": 30,
   "id": "beac8cc4",
   "metadata": {
    "execution": {
     "iopub.execute_input": "2022-01-20T12:30:49.985807Z",
     "iopub.status.busy": "2022-01-20T12:30:49.984776Z",
     "iopub.status.idle": "2022-01-20T12:30:50.274702Z",
     "shell.execute_reply": "2022-01-20T12:30:50.274142Z",
     "shell.execute_reply.started": "2022-01-20T12:26:11.951804Z"
    },
    "papermill": {
     "duration": 0.338792,
     "end_time": "2022-01-20T12:30:50.274850",
     "exception": false,
     "start_time": "2022-01-20T12:30:49.936058",
     "status": "completed"
    },
    "tags": []
   },
   "outputs": [
    {
     "data": {
      "text/plain": [
       "RandomForestRegressor(random_state=1)"
      ]
     },
     "execution_count": 30,
     "metadata": {},
     "output_type": "execute_result"
    }
   ],
   "source": [
    "forest_model.fit(X_train, y_train)"
   ]
  },
  {
   "cell_type": "markdown",
   "id": "e52b5f60",
   "metadata": {
    "papermill": {
     "duration": 0.043096,
     "end_time": "2022-01-20T12:30:50.361961",
     "exception": false,
     "start_time": "2022-01-20T12:30:50.318865",
     "status": "completed"
    },
    "tags": []
   },
   "source": [
    "### Below, heart disease predictions were given as rational numbers between 0 and 1. To binarize them, the for loop was used. However, a threshold value was intuitively chosen as 0.5, but indeed, it can be chosen in a more sophisticated manner."
   ]
  },
  {
   "cell_type": "code",
   "execution_count": 31,
   "id": "e85f2140",
   "metadata": {
    "execution": {
     "iopub.execute_input": "2022-01-20T12:30:50.460186Z",
     "iopub.status.busy": "2022-01-20T12:30:50.454414Z",
     "iopub.status.idle": "2022-01-20T12:30:50.475081Z",
     "shell.execute_reply": "2022-01-20T12:30:50.474527Z",
     "shell.execute_reply.started": "2022-01-20T12:26:12.263085Z"
    },
    "papermill": {
     "duration": 0.070325,
     "end_time": "2022-01-20T12:30:50.475253",
     "exception": false,
     "start_time": "2022-01-20T12:30:50.404928",
     "status": "completed"
    },
    "tags": []
   },
   "outputs": [
    {
     "name": "stdout",
     "output_type": "stream",
     "text": [
      "[0.11 0.67 0.99 0.99 0.03 0.56 0.74 0.01 0.64 0.94 0.48 0.02 0.68 0.08\n",
      " 0.96 0.8  0.15 0.46 0.86 0.38 0.82 0.95 0.   0.56 0.73 0.94 0.   0.61\n",
      " 0.   0.   0.98 0.02 0.53 0.95 0.92 0.53 1.   0.   0.92 0.68 0.68 0.76\n",
      " 0.45 0.   0.15 0.65 0.86 0.92 1.   0.34 0.01 0.   1.   0.97 0.31 0.08\n",
      " 0.25 0.85 0.73 0.87 0.23 0.08 0.   0.95 0.1  0.95 1.   0.9  0.99 0.64\n",
      " 0.36 0.   0.73 0.41 0.04 0.76 0.25 0.57 0.02 0.53 0.49 0.91 0.7  0.01\n",
      " 0.93 0.91 0.   0.65 0.05 0.34 0.32 0.9  0.99 0.08 0.37 0.   0.89 0.46\n",
      " 0.8  0.72 0.06 0.97 0.85 0.   0.62 0.89 0.   0.52 0.96 0.09 0.97 0.95\n",
      " 0.01 0.15 0.97 0.21 0.87 0.   0.9  0.57 0.75 0.53 0.69 0.7  0.01 0.\n",
      " 0.11 0.23 0.   0.3  0.23 0.99 0.93 0.05 0.96 0.05 0.51 0.73 0.   0.72\n",
      " 0.15 0.1  0.92 0.86 0.92 0.84 0.86 0.34 0.08 0.28 0.   0.61 0.71 0.03\n",
      " 0.69 0.02 0.01 0.03 0.   0.82 0.01 0.18 1.   0.01 0.93 0.97 0.54 0.98\n",
      " 0.11 0.24 0.95 0.91 0.02 0.86 0.   0.85 0.47 0.72 0.13 0.56 0.72 1.\n",
      " 0.01 0.98 0.24 0.   0.93 0.   1.   0.98 0.64 0.97 0.52 0.03 0.53 0.32\n",
      " 0.   0.   0.82 0.77 0.96 0.11 0.84 0.91 0.   0.78 0.18 0.92 1.   0.87\n",
      " 0.   0.12 0.   0.98 0.84 0.62 0.99 0.34 0.   0.11 0.52 0.52 0.97 0.08\n",
      " 0.78 0.01 0.59 0.85 0.   0.23]\n",
      "[0. 1. 1. 1. 0. 1. 1. 0. 1. 1. 0. 0. 1. 0. 1. 1. 0. 0. 1. 0. 1. 1. 0. 1.\n",
      " 1. 1. 0. 1. 0. 0. 1. 0. 1. 1. 1. 1. 1. 0. 1. 1. 1. 1. 0. 0. 0. 1. 1. 1.\n",
      " 1. 0. 0. 0. 1. 1. 0. 0. 0. 1. 1. 1. 0. 0. 0. 1. 0. 1. 1. 1. 1. 1. 0. 0.\n",
      " 1. 0. 0. 1. 0. 1. 0. 1. 0. 1. 1. 0. 1. 1. 0. 1. 0. 0. 0. 1. 1. 0. 0. 0.\n",
      " 1. 0. 1. 1. 0. 1. 1. 0. 1. 1. 0. 1. 1. 0. 1. 1. 0. 0. 1. 0. 1. 0. 1. 1.\n",
      " 1. 1. 1. 1. 0. 0. 0. 0. 0. 0. 0. 1. 1. 0. 1. 0. 1. 1. 0. 1. 0. 0. 1. 1.\n",
      " 1. 1. 1. 0. 0. 0. 0. 1. 1. 0. 1. 0. 0. 0. 0. 1. 0. 0. 1. 0. 1. 1. 1. 1.\n",
      " 0. 0. 1. 1. 0. 1. 0. 1. 0. 1. 0. 1. 1. 1. 0. 1. 0. 0. 1. 0. 1. 1. 1. 1.\n",
      " 1. 0. 1. 0. 0. 0. 1. 1. 1. 0. 1. 1. 0. 1. 0. 1. 1. 1. 0. 0. 0. 1. 1. 1.\n",
      " 1. 0. 0. 0. 1. 1. 1. 0. 1. 0. 1. 1. 0. 0.]\n"
     ]
    }
   ],
   "source": [
    "heart_predictions = forest_model.predict(X_test)\n",
    "print(heart_predictions)\n",
    "for i in range (len(heart_predictions)):\n",
    "    if heart_predictions[i]<0.5:\n",
    "        heart_predictions[i]=0\n",
    "    else:\n",
    "        heart_predictions[i]=1\n",
    "print(heart_predictions)"
   ]
  },
  {
   "cell_type": "code",
   "execution_count": 32,
   "id": "af81311b",
   "metadata": {
    "execution": {
     "iopub.execute_input": "2022-01-20T12:30:50.572306Z",
     "iopub.status.busy": "2022-01-20T12:30:50.571249Z",
     "iopub.status.idle": "2022-01-20T12:30:50.577664Z",
     "shell.execute_reply": "2022-01-20T12:30:50.578199Z",
     "shell.execute_reply.started": "2022-01-20T12:30:13.796908Z"
    },
    "papermill": {
     "duration": 0.059068,
     "end_time": "2022-01-20T12:30:50.578378",
     "exception": false,
     "start_time": "2022-01-20T12:30:50.519310",
     "status": "completed"
    },
    "tags": []
   },
   "outputs": [
    {
     "name": "stdout",
     "output_type": "stream",
     "text": [
      "              precision    recall  f1-score   support\n",
      "\n",
      "         0.0       0.83      0.88      0.86        98\n",
      "         1.0       0.91      0.87      0.89       132\n",
      "\n",
      "    accuracy                           0.87       230\n",
      "   macro avg       0.87      0.87      0.87       230\n",
      "weighted avg       0.88      0.87      0.87       230\n",
      "\n"
     ]
    }
   ],
   "source": [
    "print(classification_report(y_test, heart_predictions))"
   ]
  },
  {
   "cell_type": "code",
   "execution_count": 33,
   "id": "a854e7c6",
   "metadata": {
    "execution": {
     "iopub.execute_input": "2022-01-20T12:30:50.673727Z",
     "iopub.status.busy": "2022-01-20T12:30:50.670796Z",
     "iopub.status.idle": "2022-01-20T12:30:50.677648Z",
     "shell.execute_reply": "2022-01-20T12:30:50.676981Z",
     "shell.execute_reply.started": "2022-01-20T12:26:12.291482Z"
    },
    "papermill": {
     "duration": 0.055644,
     "end_time": "2022-01-20T12:30:50.677794",
     "exception": false,
     "start_time": "2022-01-20T12:30:50.622150",
     "status": "completed"
    },
    "tags": []
   },
   "outputs": [
    {
     "data": {
      "text/plain": [
       "array([[ 86,  12],\n",
       "       [ 17, 115]])"
      ]
     },
     "execution_count": 33,
     "metadata": {},
     "output_type": "execute_result"
    }
   ],
   "source": [
    "confusion_matrix(y_test, heart_predictions)"
   ]
  },
  {
   "cell_type": "markdown",
   "id": "e0579851",
   "metadata": {
    "papermill": {
     "duration": 0.04437,
     "end_time": "2022-01-20T12:30:50.767286",
     "exception": false,
     "start_time": "2022-01-20T12:30:50.722916",
     "status": "completed"
    },
    "tags": []
   },
   "source": [
    "### The confusion matrix for the Random Forests shows that it has ~87.39% accuracy.\n",
    "### It is slightly higher than that of the Logistic Regression ~84.78%."
   ]
  },
  {
   "cell_type": "code",
   "execution_count": 34,
   "id": "f828d716",
   "metadata": {
    "execution": {
     "iopub.execute_input": "2022-01-20T12:30:50.870634Z",
     "iopub.status.busy": "2022-01-20T12:30:50.869997Z",
     "iopub.status.idle": "2022-01-20T12:30:50.873389Z",
     "shell.execute_reply": "2022-01-20T12:30:50.872760Z",
     "shell.execute_reply.started": "2022-01-20T12:26:12.299976Z"
    },
    "papermill": {
     "duration": 0.059625,
     "end_time": "2022-01-20T12:30:50.873530",
     "exception": false,
     "start_time": "2022-01-20T12:30:50.813905",
     "status": "completed"
    },
    "tags": []
   },
   "outputs": [
    {
     "name": "stdout",
     "output_type": "stream",
     "text": [
      "Accuracy of the Random Forests Model is: 0.8739130434782608\n"
     ]
    }
   ],
   "source": [
    "print(f\"Accuracy of the Random Forests Model is: {(86+115)/(86+12+17+115)}\")"
   ]
  },
  {
   "cell_type": "markdown",
   "id": "dabc3aec",
   "metadata": {
    "papermill": {
     "duration": 0.046378,
     "end_time": "2022-01-20T12:30:50.965618",
     "exception": false,
     "start_time": "2022-01-20T12:30:50.919240",
     "status": "completed"
    },
    "tags": []
   },
   "source": [
    "## Two models were built with sufficiently high accuracies. This projected has revealed to me that Decision Trees and Random Forests can be easier to implement and require less data wrangling than Logistic Regression. With the methods I used, Random Forests turned out to be slightly more accurate. Yet, this project has many ways to improve:\n",
    "- choosing an optimal max_iter value for Logistic Regression;\n",
    "- choosing an optimal split size on a basis of a more educated guess;\n",
    "- choosing a more accurate threshold value or using better ways to binarize numbers for Random Forests;\n",
    "- analyzing weights of the features (which factors were the most deciding?);\n",
    "- using Gradient Descent for more optimization, and many others."
   ]
  }
 ],
 "metadata": {
  "kernelspec": {
   "display_name": "Python 3",
   "language": "python",
   "name": "python3"
  },
  "language_info": {
   "codemirror_mode": {
    "name": "ipython",
    "version": 3
   },
   "file_extension": ".py",
   "mimetype": "text/x-python",
   "name": "python",
   "nbconvert_exporter": "python",
   "pygments_lexer": "ipython3",
   "version": "3.7.12"
  },
  "papermill": {
   "default_parameters": {},
   "duration": 17.482538,
   "end_time": "2022-01-20T12:30:51.723277",
   "environment_variables": {},
   "exception": null,
   "input_path": "__notebook__.ipynb",
   "output_path": "__notebook__.ipynb",
   "parameters": {},
   "start_time": "2022-01-20T12:30:34.240739",
   "version": "2.3.3"
  }
 },
 "nbformat": 4,
 "nbformat_minor": 5
}
